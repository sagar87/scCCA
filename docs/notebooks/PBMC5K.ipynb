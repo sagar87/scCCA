{
 "cells": [
  {
   "cell_type": "markdown",
   "id": "76c6de33-b268-4142-89dc-c16f536d9822",
   "metadata": {},
   "source": [
    "# Analysing PBMC5K using scCCA"
   ]
  },
  {
   "cell_type": "code",
   "execution_count": null,
   "id": "ed216144-4d9e-4222-8f78-dfe497f43e3c",
   "metadata": {},
   "outputs": [],
   "source": []
  }
 ],
 "metadata": {
  "kernelspec": {
   "display_name": "gpu-py3.8",
   "language": "python",
   "name": "gpu-py3.8"
  },
  "language_info": {
   "codemirror_mode": {
    "name": "ipython",
    "version": 3
   },
   "file_extension": ".py",
   "mimetype": "text/x-python",
   "name": "python",
   "nbconvert_exporter": "python",
   "pygments_lexer": "ipython3",
   "version": "3.9.7"
  }
 },
 "nbformat": 4,
 "nbformat_minor": 5
}
